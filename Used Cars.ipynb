{
 "cells": [
  {
   "cell_type": "markdown",
   "metadata": {},
   "source": [
    "## Problem Statement:\n",
    "\n",
    "There is a huge demand of used cars in the Indian Market today. As sale of new car have slowed down in the recent past, the pre-owned car market has continued to grow over the past year and is larger than the new car market now. Consider this: In 2018-19, while new car sales were recorded at 3.6 million units, around4 million second-hand cars were bought and sold. There is a slowdown in new car sales and that could mean that the demand is shifting towards the pre-owned market. In fact, some car sellers replace their old cars with pre-owned cars instead of buying new ones.\n",
    "The goal here is to predict the Price of an Old car based on the variables provided in the data set.\n"
   ]
  },
  {
   "cell_type": "code",
   "execution_count": 1,
   "metadata": {},
   "outputs": [],
   "source": [
    "# loading libraries\n",
    "import pandas as pd\n",
    "import numpy as np\n",
    "import seaborn as sns\n",
    "import matplotlib.pyplot as plt"
   ]
  },
  {
   "cell_type": "markdown",
   "metadata": {},
   "source": [
    "Dowloading data"
   ]
  },
  {
   "cell_type": "code",
   "execution_count": 2,
   "metadata": {},
   "outputs": [],
   "source": [
    "train = pd.read_csv(r\"C:\\Users\\Rishima\\Desktop\\USED CARS\\Training+Data+Set_N(1).csv\")"
   ]
  },
  {
   "cell_type": "code",
   "execution_count": 3,
   "metadata": {},
   "outputs": [],
   "source": [
    "test1 = pd.read_csv(r\"C:\\Users\\Rishima\\Desktop\\USED CARS\\Test+Data+Set(1).csv\")"
   ]
  },
  {
   "cell_type": "code",
   "execution_count": 4,
   "metadata": {},
   "outputs": [
    {
     "name": "stderr",
     "output_type": "stream",
     "text": [
      "C:\\Users\\Rishima\\Anaconda3\\lib\\site-packages\\ipykernel_launcher.py:1: FutureWarning: Sorting because non-concatenation axis is not aligned. A future version\n",
      "of pandas will change to not sort by default.\n",
      "\n",
      "To accept the future behavior, pass 'sort=False'.\n",
      "\n",
      "To retain the current behavior and silence the warning, pass 'sort=True'.\n",
      "\n",
      "  \"\"\"Entry point for launching an IPython kernel.\n"
     ]
    }
   ],
   "source": [
    "train = pd.concat([train, test1], axis=0, ignore_index=True)"
   ]
  },
  {
   "cell_type": "code",
   "execution_count": 5,
   "metadata": {},
   "outputs": [
    {
     "data": {
      "text/html": [
       "<div>\n",
       "<style scoped>\n",
       "    .dataframe tbody tr th:only-of-type {\n",
       "        vertical-align: middle;\n",
       "    }\n",
       "\n",
       "    .dataframe tbody tr th {\n",
       "        vertical-align: top;\n",
       "    }\n",
       "\n",
       "    .dataframe thead th {\n",
       "        text-align: right;\n",
       "    }\n",
       "</style>\n",
       "<table border=\"1\" class=\"dataframe\">\n",
       "  <thead>\n",
       "    <tr style=\"text-align: right;\">\n",
       "      <th></th>\n",
       "      <th>Age of car</th>\n",
       "      <th>Id</th>\n",
       "      <th>Location</th>\n",
       "      <th>Maker</th>\n",
       "      <th>Owner Type</th>\n",
       "      <th>Price</th>\n",
       "      <th>Vroom Audit Rating</th>\n",
       "      <th>body_type</th>\n",
       "      <th>distance</th>\n",
       "      <th>door_count</th>\n",
       "      <th>engine_displacement</th>\n",
       "      <th>engine_power</th>\n",
       "      <th>fuel_type</th>\n",
       "      <th>manufacture_year</th>\n",
       "      <th>model</th>\n",
       "      <th>seat_count</th>\n",
       "      <th>transmission</th>\n",
       "    </tr>\n",
       "  </thead>\n",
       "  <tbody>\n",
       "    <tr>\n",
       "      <th>0</th>\n",
       "      <td>55</td>\n",
       "      <td>25001</td>\n",
       "      <td>Ahmedabad</td>\n",
       "      <td>skoda</td>\n",
       "      <td>Second</td>\n",
       "      <td>543764.25</td>\n",
       "      <td>8</td>\n",
       "      <td>compact</td>\n",
       "      <td>NaN</td>\n",
       "      <td>None</td>\n",
       "      <td>1964</td>\n",
       "      <td>147.0</td>\n",
       "      <td>petrol</td>\n",
       "      <td>1964</td>\n",
       "      <td>octavia</td>\n",
       "      <td>None</td>\n",
       "      <td>man</td>\n",
       "    </tr>\n",
       "    <tr>\n",
       "      <th>1</th>\n",
       "      <td>7</td>\n",
       "      <td>25002</td>\n",
       "      <td>Ahmedabad</td>\n",
       "      <td>fiat</td>\n",
       "      <td>Third</td>\n",
       "      <td>401819.25</td>\n",
       "      <td>6</td>\n",
       "      <td>NaN</td>\n",
       "      <td>27750.0</td>\n",
       "      <td>4</td>\n",
       "      <td>1242</td>\n",
       "      <td>51.0</td>\n",
       "      <td>petrol</td>\n",
       "      <td>2012</td>\n",
       "      <td>panda</td>\n",
       "      <td>4</td>\n",
       "      <td>man</td>\n",
       "    </tr>\n",
       "    <tr>\n",
       "      <th>2</th>\n",
       "      <td>5</td>\n",
       "      <td>25003</td>\n",
       "      <td>Hyderabad</td>\n",
       "      <td>bmw</td>\n",
       "      <td>Third</td>\n",
       "      <td>2392855.50</td>\n",
       "      <td>7</td>\n",
       "      <td>NaN</td>\n",
       "      <td>46000.0</td>\n",
       "      <td>4</td>\n",
       "      <td>1995</td>\n",
       "      <td>105.0</td>\n",
       "      <td>diesel</td>\n",
       "      <td>2014</td>\n",
       "      <td>x1</td>\n",
       "      <td>5</td>\n",
       "      <td>auto</td>\n",
       "    </tr>\n",
       "    <tr>\n",
       "      <th>3</th>\n",
       "      <td>8</td>\n",
       "      <td>25004</td>\n",
       "      <td>Mumbai</td>\n",
       "      <td>nissan</td>\n",
       "      <td>Third</td>\n",
       "      <td>958606.50</td>\n",
       "      <td>7</td>\n",
       "      <td>NaN</td>\n",
       "      <td>43949.0</td>\n",
       "      <td>4</td>\n",
       "      <td>1618</td>\n",
       "      <td>140.0</td>\n",
       "      <td>petrol</td>\n",
       "      <td>2011</td>\n",
       "      <td>juke</td>\n",
       "      <td>5</td>\n",
       "      <td>man</td>\n",
       "    </tr>\n",
       "    <tr>\n",
       "      <th>4</th>\n",
       "      <td>7</td>\n",
       "      <td>25005</td>\n",
       "      <td>Jaipur</td>\n",
       "      <td>bmw</td>\n",
       "      <td>Fourth &amp; Above</td>\n",
       "      <td>3085561.50</td>\n",
       "      <td>7</td>\n",
       "      <td>NaN</td>\n",
       "      <td>59524.0</td>\n",
       "      <td>4</td>\n",
       "      <td>2993</td>\n",
       "      <td>180.0</td>\n",
       "      <td>diesel</td>\n",
       "      <td>2012</td>\n",
       "      <td>x5</td>\n",
       "      <td>5</td>\n",
       "      <td>auto</td>\n",
       "    </tr>\n",
       "  </tbody>\n",
       "</table>\n",
       "</div>"
      ],
      "text/plain": [
       "   Age of car     Id   Location   Maker      Owner Type       Price  \\\n",
       "0          55  25001  Ahmedabad   skoda          Second   543764.25   \n",
       "1           7  25002  Ahmedabad    fiat           Third   401819.25   \n",
       "2           5  25003  Hyderabad     bmw           Third  2392855.50   \n",
       "3           8  25004     Mumbai  nissan           Third   958606.50   \n",
       "4           7  25005     Jaipur     bmw  Fourth & Above  3085561.50   \n",
       "\n",
       "   Vroom Audit Rating body_type  distance door_count  engine_displacement  \\\n",
       "0                   8   compact       NaN       None                 1964   \n",
       "1                   6       NaN   27750.0          4                 1242   \n",
       "2                   7       NaN   46000.0          4                 1995   \n",
       "3                   7       NaN   43949.0          4                 1618   \n",
       "4                   7       NaN   59524.0          4                 2993   \n",
       "\n",
       "   engine_power fuel_type  manufacture_year    model seat_count transmission  \n",
       "0         147.0    petrol              1964  octavia       None          man  \n",
       "1          51.0    petrol              2012    panda          4          man  \n",
       "2         105.0    diesel              2014       x1          5         auto  \n",
       "3         140.0    petrol              2011     juke          5          man  \n",
       "4         180.0    diesel              2012       x5          5         auto  "
      ]
     },
     "execution_count": 5,
     "metadata": {},
     "output_type": "execute_result"
    }
   ],
   "source": [
    "train.head()"
   ]
  },
  {
   "cell_type": "code",
   "execution_count": 6,
   "metadata": {},
   "outputs": [],
   "source": [
    "# replacing 'none' with null values\n",
    "train['door_count'] = train['door_count'].replace('None', np.nan)\n",
    "train['seat_count'] = train['seat_count'].replace('None', np.nan)"
   ]
  },
  {
   "cell_type": "code",
   "execution_count": 7,
   "metadata": {},
   "outputs": [],
   "source": [
    "train['door_count'] = train['door_count'].astype('float')\n",
    "train['seat_count'] = train['seat_count'].astype('float')"
   ]
  },
  {
   "cell_type": "code",
   "execution_count": 8,
   "metadata": {},
   "outputs": [
    {
     "data": {
      "text/plain": [
       "Age of car                 0\n",
       "Id                         0\n",
       "Location                   0\n",
       "Maker                      0\n",
       "Owner Type                 0\n",
       "Price                   5615\n",
       "Vroom Audit Rating         0\n",
       "body_type              54572\n",
       "distance                1339\n",
       "door_count              8340\n",
       "engine_displacement        0\n",
       "engine_power            1607\n",
       "fuel_type                  0\n",
       "manufacture_year           0\n",
       "model                      0\n",
       "seat_count              9402\n",
       "transmission               0\n",
       "dtype: int64"
      ]
     },
     "execution_count": 8,
     "metadata": {},
     "output_type": "execute_result"
    }
   ],
   "source": [
    "# checking for missing values\n",
    "train.isnull().sum()"
   ]
  },
  {
   "cell_type": "code",
   "execution_count": 9,
   "metadata": {},
   "outputs": [
    {
     "name": "stdout",
     "output_type": "stream",
     "text": [
      "<class 'pandas.core.frame.DataFrame'>\n",
      "RangeIndex: 59130 entries, 0 to 59129\n",
      "Data columns (total 17 columns):\n",
      "Age of car             59130 non-null int64\n",
      "Id                     59130 non-null int64\n",
      "Location               59130 non-null object\n",
      "Maker                  59130 non-null object\n",
      "Owner Type             59130 non-null object\n",
      "Price                  53515 non-null float64\n",
      "Vroom Audit Rating     59130 non-null int64\n",
      "body_type              4558 non-null object\n",
      "distance               57791 non-null float64\n",
      "door_count             50790 non-null float64\n",
      "engine_displacement    59130 non-null int64\n",
      "engine_power           57523 non-null float64\n",
      "fuel_type              59130 non-null object\n",
      "manufacture_year       59130 non-null int64\n",
      "model                  59130 non-null object\n",
      "seat_count             49728 non-null float64\n",
      "transmission           59130 non-null object\n",
      "dtypes: float64(5), int64(5), object(7)\n",
      "memory usage: 7.7+ MB\n"
     ]
    }
   ],
   "source": [
    "train.info()"
   ]
  },
  {
   "cell_type": "code",
   "execution_count": 10,
   "metadata": {},
   "outputs": [
    {
     "data": {
      "text/html": [
       "<div>\n",
       "<style scoped>\n",
       "    .dataframe tbody tr th:only-of-type {\n",
       "        vertical-align: middle;\n",
       "    }\n",
       "\n",
       "    .dataframe tbody tr th {\n",
       "        vertical-align: top;\n",
       "    }\n",
       "\n",
       "    .dataframe thead th {\n",
       "        text-align: right;\n",
       "    }\n",
       "</style>\n",
       "<table border=\"1\" class=\"dataframe\">\n",
       "  <thead>\n",
       "    <tr style=\"text-align: right;\">\n",
       "      <th></th>\n",
       "      <th>Age of car</th>\n",
       "      <th>Id</th>\n",
       "      <th>Price</th>\n",
       "      <th>Vroom Audit Rating</th>\n",
       "      <th>distance</th>\n",
       "      <th>door_count</th>\n",
       "      <th>engine_displacement</th>\n",
       "      <th>engine_power</th>\n",
       "      <th>manufacture_year</th>\n",
       "      <th>seat_count</th>\n",
       "    </tr>\n",
       "  </thead>\n",
       "  <tbody>\n",
       "    <tr>\n",
       "      <th>count</th>\n",
       "      <td>59130.000000</td>\n",
       "      <td>59130.000000</td>\n",
       "      <td>5.351500e+04</td>\n",
       "      <td>59130.000000</td>\n",
       "      <td>5.779100e+04</td>\n",
       "      <td>50790.000000</td>\n",
       "      <td>59130.000000</td>\n",
       "      <td>57523.000000</td>\n",
       "      <td>59130.000000</td>\n",
       "      <td>49728.00000</td>\n",
       "    </tr>\n",
       "    <tr>\n",
       "      <th>mean</th>\n",
       "      <td>8.584340</td>\n",
       "      <td>48154.258245</td>\n",
       "      <td>1.098084e+06</td>\n",
       "      <td>5.998089</td>\n",
       "      <td>9.467385e+04</td>\n",
       "      <td>3.973518</td>\n",
       "      <td>1901.370184</td>\n",
       "      <td>100.356136</td>\n",
       "      <td>2010.415660</td>\n",
       "      <td>4.88598</td>\n",
       "    </tr>\n",
       "    <tr>\n",
       "      <th>std</th>\n",
       "      <td>4.658657</td>\n",
       "      <td>18439.690590</td>\n",
       "      <td>8.441565e+05</td>\n",
       "      <td>1.416501</td>\n",
       "      <td>2.788909e+05</td>\n",
       "      <td>0.739086</td>\n",
       "      <td>1487.932696</td>\n",
       "      <td>45.345649</td>\n",
       "      <td>4.658657</td>\n",
       "      <td>0.56360</td>\n",
       "    </tr>\n",
       "    <tr>\n",
       "      <th>min</th>\n",
       "      <td>3.000000</td>\n",
       "      <td>11001.000000</td>\n",
       "      <td>3.000000e+00</td>\n",
       "      <td>4.000000</td>\n",
       "      <td>0.000000e+00</td>\n",
       "      <td>1.000000</td>\n",
       "      <td>14.000000</td>\n",
       "      <td>10.000000</td>\n",
       "      <td>1934.000000</td>\n",
       "      <td>1.00000</td>\n",
       "    </tr>\n",
       "    <tr>\n",
       "      <th>25%</th>\n",
       "      <td>5.000000</td>\n",
       "      <td>34168.250000</td>\n",
       "      <td>5.051812e+05</td>\n",
       "      <td>5.000000</td>\n",
       "      <td>1.536000e+04</td>\n",
       "      <td>4.000000</td>\n",
       "      <td>1395.000000</td>\n",
       "      <td>73.000000</td>\n",
       "      <td>2008.000000</td>\n",
       "      <td>5.00000</td>\n",
       "    </tr>\n",
       "    <tr>\n",
       "      <th>50%</th>\n",
       "      <td>8.000000</td>\n",
       "      <td>48950.500000</td>\n",
       "      <td>8.854552e+05</td>\n",
       "      <td>6.000000</td>\n",
       "      <td>6.530000e+04</td>\n",
       "      <td>4.000000</td>\n",
       "      <td>1896.000000</td>\n",
       "      <td>91.000000</td>\n",
       "      <td>2011.000000</td>\n",
       "      <td>5.00000</td>\n",
       "    </tr>\n",
       "    <tr>\n",
       "      <th>75%</th>\n",
       "      <td>11.000000</td>\n",
       "      <td>63732.750000</td>\n",
       "      <td>1.477829e+06</td>\n",
       "      <td>7.000000</td>\n",
       "      <td>1.351120e+05</td>\n",
       "      <td>4.000000</td>\n",
       "      <td>1995.000000</td>\n",
       "      <td>125.000000</td>\n",
       "      <td>2014.000000</td>\n",
       "      <td>5.00000</td>\n",
       "    </tr>\n",
       "    <tr>\n",
       "      <th>max</th>\n",
       "      <td>85.000000</td>\n",
       "      <td>78515.000000</td>\n",
       "      <td>2.212078e+07</td>\n",
       "      <td>8.000000</td>\n",
       "      <td>9.899800e+06</td>\n",
       "      <td>6.000000</td>\n",
       "      <td>32000.000000</td>\n",
       "      <td>968.000000</td>\n",
       "      <td>2016.000000</td>\n",
       "      <td>9.00000</td>\n",
       "    </tr>\n",
       "  </tbody>\n",
       "</table>\n",
       "</div>"
      ],
      "text/plain": [
       "         Age of car            Id         Price  Vroom Audit Rating  \\\n",
       "count  59130.000000  59130.000000  5.351500e+04        59130.000000   \n",
       "mean       8.584340  48154.258245  1.098084e+06            5.998089   \n",
       "std        4.658657  18439.690590  8.441565e+05            1.416501   \n",
       "min        3.000000  11001.000000  3.000000e+00            4.000000   \n",
       "25%        5.000000  34168.250000  5.051812e+05            5.000000   \n",
       "50%        8.000000  48950.500000  8.854552e+05            6.000000   \n",
       "75%       11.000000  63732.750000  1.477829e+06            7.000000   \n",
       "max       85.000000  78515.000000  2.212078e+07            8.000000   \n",
       "\n",
       "           distance    door_count  engine_displacement  engine_power  \\\n",
       "count  5.779100e+04  50790.000000         59130.000000  57523.000000   \n",
       "mean   9.467385e+04      3.973518          1901.370184    100.356136   \n",
       "std    2.788909e+05      0.739086          1487.932696     45.345649   \n",
       "min    0.000000e+00      1.000000            14.000000     10.000000   \n",
       "25%    1.536000e+04      4.000000          1395.000000     73.000000   \n",
       "50%    6.530000e+04      4.000000          1896.000000     91.000000   \n",
       "75%    1.351120e+05      4.000000          1995.000000    125.000000   \n",
       "max    9.899800e+06      6.000000         32000.000000    968.000000   \n",
       "\n",
       "       manufacture_year   seat_count  \n",
       "count      59130.000000  49728.00000  \n",
       "mean        2010.415660      4.88598  \n",
       "std            4.658657      0.56360  \n",
       "min         1934.000000      1.00000  \n",
       "25%         2008.000000      5.00000  \n",
       "50%         2011.000000      5.00000  \n",
       "75%         2014.000000      5.00000  \n",
       "max         2016.000000      9.00000  "
      ]
     },
     "execution_count": 10,
     "metadata": {},
     "output_type": "execute_result"
    }
   ],
   "source": [
    "train.describe()"
   ]
  },
  {
   "cell_type": "code",
   "execution_count": 11,
   "metadata": {},
   "outputs": [],
   "source": [
    "# filling missing values in seat count and by identifying pattern and filling with median values.\n",
    "train[\"seat_count\"] = train.groupby([\"Maker\", 'model', 'manufacture_year'])[\"seat_count\"].transform(lambda x:x.fillna(x.median()))"
   ]
  },
  {
   "cell_type": "code",
   "execution_count": 12,
   "metadata": {},
   "outputs": [],
   "source": [
    "# filling missing values in door count and by identifying pattern and filling with median values.\n",
    "train[\"door_count\"] = train.groupby([\"Maker\", 'model', 'manufacture_year'])[\"door_count\"].transform(lambda x:x.fillna(x.median()))"
   ]
  },
  {
   "cell_type": "code",
   "execution_count": 13,
   "metadata": {},
   "outputs": [],
   "source": [
    "# filling missing values in door_count with median\n",
    "train['door_count'] = train['door_count'].fillna(4)"
   ]
  },
  {
   "cell_type": "code",
   "execution_count": 14,
   "metadata": {},
   "outputs": [],
   "source": [
    "# filling missing values in seat_count with median\n",
    "train['seat_count'] = train['seat_count'].fillna(4)"
   ]
  },
  {
   "cell_type": "code",
   "execution_count": 15,
   "metadata": {},
   "outputs": [],
   "source": [
    "# filling missing values of distance with median\n",
    "train['distance'] = train['distance'].fillna(train.distance.median())"
   ]
  },
  {
   "cell_type": "code",
   "execution_count": 16,
   "metadata": {},
   "outputs": [
    {
     "data": {
      "text/plain": [
       "Age of car                 0\n",
       "Id                         0\n",
       "Location                   0\n",
       "Maker                      0\n",
       "Owner Type                 0\n",
       "Price                   5615\n",
       "Vroom Audit Rating         0\n",
       "body_type              54572\n",
       "distance                   0\n",
       "door_count                 0\n",
       "engine_displacement        0\n",
       "engine_power            1607\n",
       "fuel_type                  0\n",
       "manufacture_year           0\n",
       "model                      0\n",
       "seat_count                 0\n",
       "transmission               0\n",
       "dtype: int64"
      ]
     },
     "execution_count": 16,
     "metadata": {},
     "output_type": "execute_result"
    }
   ],
   "source": [
    "train.isnull().sum()"
   ]
  },
  {
   "cell_type": "code",
   "execution_count": 21,
   "metadata": {},
   "outputs": [
    {
     "data": {
      "text/plain": [
       "<matplotlib.axes._subplots.AxesSubplot at 0x1f78228e048>"
      ]
     },
     "execution_count": 21,
     "metadata": {},
     "output_type": "execute_result"
    },
    {
     "data": {
      "image/png": "[encoded data removed]",
      "text/plain": [
       "<Figure size 432x288 with 1 Axes>"
      ]
     },
     "metadata": {
      "needs_background": "light"
     },
     "output_type": "display_data"
    }
   ],
   "source": [
    "sns.distplot(train['distance'])"
   ]
  },
  {
   "cell_type": "code",
   "execution_count": 22,
   "metadata": {},
   "outputs": [
    {
     "data": {
      "text/plain": [
       "<matplotlib.axes._subplots.AxesSubplot at 0x1f78262ed68>"
      ]
     },
     "execution_count": 22,
     "metadata": {},
     "output_type": "execute_result"
    },
    {
     "data": {
      "image/png": "[encoded data removed]",
      "text/plain": [
       "<Figure size 432x288 with 1 Axes>"
      ]
     },
     "metadata": {
      "needs_background": "light"
     },
     "output_type": "display_data"
    }
   ],
   "source": [
    "sns.distplot(np.cbrt(train['distance']))"
   ]
  },
  {
   "cell_type": "code",
   "execution_count": 23,
   "metadata": {},
   "outputs": [],
   "source": [
    "# transforming distance to deal with outliers\n",
    "train['distance'] = np.cbrt(train['distance'])"
   ]
  },
  {
   "cell_type": "code",
   "execution_count": 24,
   "metadata": {},
   "outputs": [],
   "source": [
    "train['door_count'] = train['door_count'].astype('object')\n",
    "train['seat_count'] = train['seat_count'].astype('object')"
   ]
  },
  {
   "cell_type": "code",
   "execution_count": 25,
   "metadata": {},
   "outputs": [],
   "source": [
    "train.drop(['Id', 'manufacture_year', 'body_type'], axis=1, inplace=True)"
   ]
  },
  {
   "cell_type": "code",
   "execution_count": 26,
   "metadata": {},
   "outputs": [
    {
     "name": "stdout",
     "output_type": "stream",
     "text": [
      "<class 'pandas.core.frame.DataFrame'>\n",
      "RangeIndex: 59130 entries, 0 to 59129\n",
      "Data columns (total 14 columns):\n",
      "Age of car             59130 non-null int64\n",
      "Location               59130 non-null object\n",
      "Maker                  59130 non-null object\n",
      "Owner Type             59130 non-null object\n",
      "Price                  53515 non-null float64\n",
      "Vroom Audit Rating     59130 non-null int64\n",
      "distance               59130 non-null float64\n",
      "door_count             59130 non-null object\n",
      "engine_displacement    59130 non-null int64\n",
      "engine_power           57523 non-null float64\n",
      "fuel_type              59130 non-null object\n",
      "model                  59130 non-null object\n",
      "seat_count             59130 non-null object\n",
      "transmission           59130 non-null object\n",
      "dtypes: float64(3), int64(3), object(8)\n",
      "memory usage: 6.3+ MB\n"
     ]
    }
   ],
   "source": [
    "train.info()"
   ]
  },
  {
   "cell_type": "markdown",
   "metadata": {},
   "source": [
    "### Finding anamolies in engine displacement and engine power and replacing it with mean by grouping by of maker and model"
   ]
  },
  {
   "cell_type": "code",
   "execution_count": 27,
   "metadata": {},
   "outputs": [],
   "source": [
    "eng_indexes = train[train['engine_displacement'] > 5000].index"
   ]
  },
  {
   "cell_type": "code",
   "execution_count": 28,
   "metadata": {},
   "outputs": [],
   "source": [
    "train.loc[eng_indexes,'engine_displacement'] = np.nan"
   ]
  },
  {
   "cell_type": "code",
   "execution_count": 29,
   "metadata": {},
   "outputs": [],
   "source": [
    "end_indexes = train[train['engine_displacement'] < 800].index"
   ]
  },
  {
   "cell_type": "code",
   "execution_count": 30,
   "metadata": {},
   "outputs": [],
   "source": [
    "train.loc[end_indexes,'engine_displacement'] = np.nan"
   ]
  },
  {
   "cell_type": "code",
   "execution_count": 31,
   "metadata": {},
   "outputs": [
    {
     "data": {
      "text/plain": [
       "Age of car                0\n",
       "Location                  0\n",
       "Maker                     0\n",
       "Owner Type                0\n",
       "Price                  5615\n",
       "Vroom Audit Rating        0\n",
       "distance                  0\n",
       "door_count                0\n",
       "engine_displacement     570\n",
       "engine_power           1607\n",
       "fuel_type                 0\n",
       "model                     0\n",
       "seat_count                0\n",
       "transmission              0\n",
       "dtype: int64"
      ]
     },
     "execution_count": 31,
     "metadata": {},
     "output_type": "execute_result"
    }
   ],
   "source": [
    "train.isnull().sum()"
   ]
  },
  {
   "cell_type": "code",
   "execution_count": 32,
   "metadata": {},
   "outputs": [],
   "source": [
    "enh_indexes = train[train['engine_power'] < 70].index"
   ]
  },
  {
   "cell_type": "code",
   "execution_count": 33,
   "metadata": {},
   "outputs": [],
   "source": [
    "train.loc[enh_indexes,'engine_power'] = np.nan"
   ]
  },
  {
   "cell_type": "code",
   "execution_count": 34,
   "metadata": {},
   "outputs": [],
   "source": [
    "train[\"engine_displacement\"] = train.groupby([\"Maker\", 'model'])[\"engine_displacement\"].transform(lambda x:x.fillna(x.mean()))"
   ]
  },
  {
   "cell_type": "code",
   "execution_count": 35,
   "metadata": {},
   "outputs": [],
   "source": [
    "train[\"engine_power\"] = train.groupby([\"Maker\", 'model'])[\"engine_power\"].transform(lambda x:x.fillna(x.mean()))"
   ]
  },
  {
   "cell_type": "code",
   "execution_count": 36,
   "metadata": {},
   "outputs": [
    {
     "data": {
      "text/plain": [
       "Age of car                0\n",
       "Location                  0\n",
       "Maker                     0\n",
       "Owner Type                0\n",
       "Price                  5615\n",
       "Vroom Audit Rating        0\n",
       "distance                  0\n",
       "door_count                0\n",
       "engine_displacement       0\n",
       "engine_power           2853\n",
       "fuel_type                 0\n",
       "model                     0\n",
       "seat_count                0\n",
       "transmission              0\n",
       "dtype: int64"
      ]
     },
     "execution_count": 36,
     "metadata": {},
     "output_type": "execute_result"
    }
   ],
   "source": [
    "train.isnull().sum()"
   ]
  },
  {
   "cell_type": "code",
   "execution_count": 37,
   "metadata": {},
   "outputs": [],
   "source": [
    "train['engine_power'] = train['engine_power'].fillna(train['engine_power'].median())"
   ]
  },
  {
   "cell_type": "code",
   "execution_count": 38,
   "metadata": {},
   "outputs": [
    {
     "data": {
      "text/plain": [
       "<matplotlib.axes._subplots.AxesSubplot at 0x1f782c04e80>"
      ]
     },
     "execution_count": 38,
     "metadata": {},
     "output_type": "execute_result"
    },
    {
     "data": {
      "image/png": "[encoded data removed]",
      "text/plain": [
       "<Figure size 432x288 with 1 Axes>"
      ]
     },
     "metadata": {
      "needs_background": "light"
     },
     "output_type": "display_data"
    }
   ],
   "source": [
    "sns.distplot(train['engine_power'])"
   ]
  },
  {
   "cell_type": "code",
   "execution_count": 39,
   "metadata": {},
   "outputs": [
    {
     "data": {
      "text/plain": [
       "<matplotlib.axes._subplots.AxesSubplot at 0x1f782b32dd8>"
      ]
     },
     "execution_count": 39,
     "metadata": {},
     "output_type": "execute_result"
    },
    {
     "data": {
      "image/png": "[encoded data removed]",
      "text/plain": [
       "<Figure size 432x288 with 1 Axes>"
      ]
     },
     "metadata": {
      "needs_background": "light"
     },
     "output_type": "display_data"
    }
   ],
   "source": [
    "sns.distplot(np.cbrt(train['engine_power']))"
   ]
  },
  {
   "cell_type": "code",
   "execution_count": 40,
   "metadata": {},
   "outputs": [],
   "source": [
    "train['engine_power'] = np.cbrt(train['engine_power'])"
   ]
  },
  {
   "cell_type": "code",
   "execution_count": 41,
   "metadata": {},
   "outputs": [
    {
     "data": {
      "text/plain": [
       "<matplotlib.axes._subplots.AxesSubplot at 0x1f782e03b38>"
      ]
     },
     "execution_count": 41,
     "metadata": {},
     "output_type": "execute_result"
    },
    {
     "data": {
      "image/png": "[encoded data removed]",
      "text/plain": [
       "<Figure size 432x288 with 1 Axes>"
      ]
     },
     "metadata": {
      "needs_background": "light"
     },
     "output_type": "display_data"
    }
   ],
   "source": [
    "sns.distplot(train['engine_displacement'])"
   ]
  },
  {
   "cell_type": "code",
   "execution_count": 42,
   "metadata": {},
   "outputs": [
    {
     "data": {
      "text/plain": [
       "<matplotlib.axes._subplots.AxesSubplot at 0x1f782eabc18>"
      ]
     },
     "execution_count": 42,
     "metadata": {},
     "output_type": "execute_result"
    },
    {
     "data": {
      "image/png": "[encoded data removed]",
      "text/plain": [
       "<Figure size 432x288 with 1 Axes>"
      ]
     },
     "metadata": {
      "needs_background": "light"
     },
     "output_type": "display_data"
    }
   ],
   "source": [
    "sns.distplot(np.cbrt(train['engine_displacement']))"
   ]
  },
  {
   "cell_type": "code",
   "execution_count": 43,
   "metadata": {},
   "outputs": [],
   "source": [
    "train['engine_displacement'] = np.cbrt(train['engine_displacement'])"
   ]
  },
  {
   "cell_type": "code",
   "execution_count": 44,
   "metadata": {},
   "outputs": [],
   "source": [
    "dummy_data = pd.get_dummies(train, drop_first=True)"
   ]
  },
  {
   "cell_type": "code",
   "execution_count": 45,
   "metadata": {},
   "outputs": [
    {
     "data": {
      "text/plain": [
       "(59130, 63)"
      ]
     },
     "execution_count": 45,
     "metadata": {},
     "output_type": "execute_result"
    }
   ],
   "source": [
    "dummy_data.shape"
   ]
  },
  {
   "cell_type": "code",
   "execution_count": 46,
   "metadata": {},
   "outputs": [],
   "source": [
    "# splitting data into train and test\n",
    "train1 = dummy_data[dummy_data['Price'].notnull()]\n",
    "test = dummy_data[dummy_data['Price'].isnull()]"
   ]
  },
  {
   "cell_type": "code",
   "execution_count": 47,
   "metadata": {},
   "outputs": [
    {
     "data": {
      "text/plain": [
       "(53515, 63)"
      ]
     },
     "execution_count": 47,
     "metadata": {},
     "output_type": "execute_result"
    }
   ],
   "source": [
    "train1.shape"
   ]
  },
  {
   "cell_type": "code",
   "execution_count": 48,
   "metadata": {},
   "outputs": [
    {
     "data": {
      "text/plain": [
       "(5615, 63)"
      ]
     },
     "execution_count": 48,
     "metadata": {},
     "output_type": "execute_result"
    }
   ],
   "source": [
    "test.shape"
   ]
  },
  {
   "cell_type": "code",
   "execution_count": 49,
   "metadata": {},
   "outputs": [],
   "source": [
    "test = test.drop('Price', axis=1)"
   ]
  },
  {
   "cell_type": "code",
   "execution_count": 50,
   "metadata": {},
   "outputs": [
    {
     "data": {
      "text/plain": [
       "(5615, 62)"
      ]
     },
     "execution_count": 50,
     "metadata": {},
     "output_type": "execute_result"
    }
   ],
   "source": [
    "test.shape"
   ]
  },
  {
   "cell_type": "code",
   "execution_count": 51,
   "metadata": {},
   "outputs": [],
   "source": [
    "# removing outliers from price.\n",
    "train1 = train1[~(train1['Price']<=10000)&(train1['Price']<6500000)]"
   ]
  },
  {
   "cell_type": "code",
   "execution_count": 52,
   "metadata": {},
   "outputs": [],
   "source": [
    "x = train1.drop('Price', axis=1)\n",
    "y = train1.Price"
   ]
  },
  {
   "cell_type": "code",
   "execution_count": 53,
   "metadata": {},
   "outputs": [
    {
     "data": {
      "text/plain": [
       "(53461, 62)"
      ]
     },
     "execution_count": 53,
     "metadata": {},
     "output_type": "execute_result"
    }
   ],
   "source": [
    "x.shape"
   ]
  },
  {
   "cell_type": "code",
   "execution_count": 54,
   "metadata": {},
   "outputs": [
    {
     "data": {
      "text/plain": [
       "(53461,)"
      ]
     },
     "execution_count": 54,
     "metadata": {},
     "output_type": "execute_result"
    }
   ],
   "source": [
    "y.shape"
   ]
  },
  {
   "cell_type": "code",
   "execution_count": 55,
   "metadata": {},
   "outputs": [
    {
     "name": "stderr",
     "output_type": "stream",
     "text": [
      "C:\\Users\\Rishima\\Anaconda3\\lib\\site-packages\\sklearn\\preprocessing\\data.py:645: DataConversionWarning: Data with input dtype uint8, int64, float64 were all converted to float64 by StandardScaler.\n",
      "  return self.partial_fit(X, y)\n",
      "C:\\Users\\Rishima\\Anaconda3\\lib\\site-packages\\sklearn\\base.py:464: DataConversionWarning: Data with input dtype uint8, int64, float64 were all converted to float64 by StandardScaler.\n",
      "  return self.fit(X, **fit_params).transform(X)\n",
      "C:\\Users\\Rishima\\Anaconda3\\lib\\site-packages\\ipykernel_launcher.py:4: DataConversionWarning: Data with input dtype uint8, int64, float64 were all converted to float64 by StandardScaler.\n",
      "  after removing the cwd from sys.path.\n"
     ]
    }
   ],
   "source": [
    "from sklearn.preprocessing import StandardScaler\n",
    "sc = StandardScaler()\n",
    "Xtrain = pd.DataFrame(sc.fit_transform(x), columns = x.columns)\n",
    "scaled_test = pd.DataFrame(sc.transform(test), columns = test.columns)"
   ]
  },
  {
   "cell_type": "code",
   "execution_count": 56,
   "metadata": {},
   "outputs": [],
   "source": [
    "from sklearn.ensemble import RandomForestRegressor"
   ]
  },
  {
   "cell_type": "code",
   "execution_count": 57,
   "metadata": {},
   "outputs": [],
   "source": [
    "rf = RandomForestRegressor(random_state=42)"
   ]
  },
  {
   "cell_type": "code",
   "execution_count": 58,
   "metadata": {},
   "outputs": [
    {
     "name": "stderr",
     "output_type": "stream",
     "text": [
      "C:\\Users\\Rishima\\Anaconda3\\lib\\site-packages\\sklearn\\ensemble\\forest.py:246: FutureWarning: The default value of n_estimators will change from 10 in version 0.20 to 100 in 0.22.\n",
      "  \"10 in version 0.20 to 100 in 0.22.\", FutureWarning)\n"
     ]
    }
   ],
   "source": [
    "rf.fit(x, y)\n",
    "pred_model = rf.predict(test)"
   ]
  },
  {
   "cell_type": "code",
   "execution_count": 59,
   "metadata": {},
   "outputs": [],
   "source": [
    "solution = pd.DataFrame({\"Unique Id\":test1.Id,\n",
    "                        \"Price\":pred_model,\n",
    "                        })\n",
    "\n",
    "solution.to_csv(\"BaseRandomForest.csv\", index = False) "
   ]
  },
  {
   "cell_type": "code",
   "execution_count": 60,
   "metadata": {},
   "outputs": [],
   "source": [
    "from sklearn.model_selection import GridSearchCV, RandomizedSearchCV\n",
    "from sklearn.model_selection import KFold\n",
    "from sklearn.model_selection import cross_val_score"
   ]
  },
  {
   "cell_type": "code",
   "execution_count": null,
   "metadata": {},
   "outputs": [
    {
     "name": "stdout",
     "output_type": "stream",
     "text": [
      "{'n_estimators': [100, 200, 300, 400, 500, 600, 700, 800, 900, 1000, 1100, 1200, 1300, 1400, 1500, 1600, 1700, 1800, 1900, 2000], 'max_features': ['auto', 'sqrt', None], 'max_depth': [10, 20, 30, 40, 50, 60, 70, 80, 90, 100, 110, None], 'min_samples_split': [4, 6, 8, 10, 12], 'min_samples_leaf': [1, 2, 4]}\n",
      "Fitting 6 folds for each of 30 candidates, totalling 180 fits\n"
     ]
    },
    {
     "name": "stderr",
     "output_type": "stream",
     "text": [
      "[Parallel(n_jobs=-1)]: Using backend LokyBackend with 8 concurrent workers.\n",
      "[Parallel(n_jobs=-1)]: Done  25 tasks      | elapsed: 28.1min\n"
     ]
    }
   ],
   "source": [
    "from sklearn.model_selection import RandomizedSearchCV\n",
    "# Number of trees in random forest\n",
    "n_estimators = [int(x) for x in np.linspace(start = 100, stop = 2000, num = 20)]\n",
    "# Number of features to consider at every split\n",
    "max_features = ['auto', 'sqrt', None]\n",
    "# Maximum number of levels in tree\n",
    "max_depth = [int(x) for x in np.linspace(10, 110, num = 11)]\n",
    "max_depth.append(None)\n",
    "# Minimum number of samples required to split a node\n",
    "min_samples_split = [4, 6, 8, 10, 12]\n",
    "# Minimum number of samples required at each leaf node\n",
    "min_samples_leaf = [1, 2, 4]\n",
    "# Create the random grid\n",
    "\n",
    "random_grid = {'n_estimators': n_estimators,\n",
    "               'max_features': max_features,\n",
    "               'max_depth': max_depth,\n",
    "               'min_samples_split': min_samples_split,\n",
    "               'min_samples_leaf': min_samples_leaf }\n",
    "\n",
    "print(random_grid)\n",
    "{'max_depth': [10, 20, 30, 40, 50, 60, 70, 80, 90, 100, None],\n",
    " 'max_features': ['auto', 'sqrt'],\n",
    " 'min_samples_leaf': [1, 2, 4],\n",
    " 'min_samples_split': [2, 5, 10],\n",
    " 'n_estimators': [200, 400, 600, 800, 1000, 1200, 1400, 1600, 1800, 2000]}\n",
    "\n",
    "\n",
    "rf = RandomForestRegressor(random_state = 42)\n",
    "\n",
    "# Random search of parameters, using 3 fold cross validation, \n",
    "# search across 100 different combinations, and use all available cores\n",
    "\n",
    "rf_random = RandomizedSearchCV(estimator = rf, param_distributions = random_grid, n_iter = 30 , cv = 6, verbose = 2, random_state=42, n_jobs = -1)\n",
    "\n",
    "# Fit the random search model\n",
    "\n",
    "rf_random.fit(x, y)"
   ]
  },
  {
   "cell_type": "code",
   "execution_count": null,
   "metadata": {},
   "outputs": [],
   "source": [
    "random_cv.best_estimator_"
   ]
  },
  {
   "cell_type": "code",
   "execution_count": null,
   "metadata": {},
   "outputs": [],
   "source": [
    "trees_grid = {'n_estimators': [800, 850, 900, 950, 1000, 1050, 1100, 1150, 1200, 1250, 1300]}\n",
    "\n",
    "model = RandomForestRegressor(min_samples_leaf = 2,\n",
    "                              min_samples_split = 2,\n",
    "                               max_features = None,\n",
    "                                  random_state = 42)\n",
    "\n",
    "# Grid Search Object using the trees range and the random forest model\n",
    "Grid_search = GridSearchCV(estimator = model, param_grid=trees_grid, cv = 4, \n",
    "                           scoring = 'neg_mean_absolute_error', verbose = 1,\n",
    "                            return_train_score = True)"
   ]
  },
  {
   "cell_type": "code",
   "execution_count": null,
   "metadata": {},
   "outputs": [],
   "source": [
    "Grid_search.fit(x, y)"
   ]
  },
  {
   "cell_type": "code",
   "execution_count": null,
   "metadata": {},
   "outputs": [],
   "source": [
    "# # Get the results into a dataframe\n",
    "# results = pd.DataFrame(grid_search.cv_results_)\n",
    "\n",
    "# # Plot the training and testing error vs number of trees\n",
    "\n",
    "# plt.style.use('fivethirtyeight')\n",
    "# plt.plot(results['param_n_estimators'], -1 * results['mean_test_score'], label = 'Testing Error')\n",
    "# plt.plot(results['param_n_estimators'], -1 * results['mean_train_score'], label = 'Training Error')\n",
    "# plt.xlabel('Number of Trees'); plt.ylabel('Mean Abosolute Error'); plt.legend();\n",
    "# plt.title('Performance vs Number of Trees');"
   ]
  },
  {
   "cell_type": "code",
   "execution_count": null,
   "metadata": {},
   "outputs": [],
   "source": [
    "# Select the best model\n",
    "final_model = grid_search.best_estimator_\n",
    "final_model"
   ]
  },
  {
   "cell_type": "code",
   "execution_count": null,
   "metadata": {},
   "outputs": [],
   "source": [
    "final_model.fit(x, y)"
   ]
  },
  {
   "cell_type": "code",
   "execution_count": null,
   "metadata": {},
   "outputs": [],
   "source": [
    "final_pred = final_model.predict(scaledtest)"
   ]
  }
 ],
 "metadata": {
  "kernelspec": {
   "display_name": "Python 3",
   "language": "python",
   "name": "python3"
  },
  "language_info": {
   "codemirror_mode": {
    "name": "ipython",
    "version": 3
   },
   "file_extension": ".py",
   "mimetype": "text/x-python",
   "name": "python",
   "nbconvert_exporter": "python",
   "pygments_lexer": "ipython3",
   "version": "3.7.3"
  }
 },
 "nbformat": 4,
 "nbformat_minor": 2
}
